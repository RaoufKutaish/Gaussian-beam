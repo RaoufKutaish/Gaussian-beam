{
 "cells": [
  {
   "cell_type": "code",
   "execution_count": 1,
   "id": "b0afc7c5",
   "metadata": {},
   "outputs": [],
   "source": [
    "import numpy as np\n",
    "import matplotlib.pyplot as plt\n",
    "import pandas as pd"
   ]
  },
  {
   "cell_type": "markdown",
   "id": "33821328",
   "metadata": {},
   "source": [
    "## Gaussian Beam Intensity"
   ]
  },
  {
   "cell_type": "markdown",
   "id": "2d52ee7f",
   "metadata": {},
   "source": [
    "$$ \\large I(\\rho , z) = I_0 \\ (\\frac{\\omega_{0}}{\\omega(z)}) ^2 \\; \\exp {(\\frac{-2\\rho^2}{\\omega^{2}(z)})} $$ \n",
    "\n",
    "$$ \\omega(z) = \\omega_0 \\ \\large [1 + (\\frac{z}{z_R})^2]^{\\frac{1}{2}}  $$\n",
    "\n",
    "$$ \\large z_R = \\frac{\\pi \\ \\omega_0^2}{\\lambda} $$\n",
    "\n",
    "$$ \\large \\theta = \\frac{\\lambda}{\\pi \\ \\omega_0} \\ \\ \\ \\ \\ \\ \\ \\ \\ \\ \\ for \\ z >> z_R$$"
   ]
  },
  {
   "cell_type": "code",
   "execution_count": 13,
   "id": "38eebef2",
   "metadata": {},
   "outputs": [],
   "source": [
    "wavelength = 714.285 * 1e-6"
   ]
  },
  {
   "cell_type": "code",
   "execution_count": 14,
   "id": "210ddb2b",
   "metadata": {},
   "outputs": [],
   "source": [
    "names=['Phi', 'theta', 'V']\n",
    "df = pd.read_csv('data1.csv',delimiter=';', header=None,index_col=False, names=names)\n",
    "df ['mV']= df['V'].multiply(1000)                                        # convert to mV for simplicity"
   ]
  },
  {
   "cell_type": "code",
   "execution_count": 15,
   "id": "286ce8d2",
   "metadata": {},
   "outputs": [
    {
     "name": "stdout",
     "output_type": "stream",
     "text": [
      "9.933609789567374\n"
     ]
    },
    {
     "data": {
      "text/html": [
       "<div>\n",
       "<style scoped>\n",
       "    .dataframe tbody tr th:only-of-type {\n",
       "        vertical-align: middle;\n",
       "    }\n",
       "\n",
       "    .dataframe tbody tr th {\n",
       "        vertical-align: top;\n",
       "    }\n",
       "\n",
       "    .dataframe thead th {\n",
       "        text-align: right;\n",
       "    }\n",
       "</style>\n",
       "<table border=\"1\" class=\"dataframe\">\n",
       "  <thead>\n",
       "    <tr style=\"text-align: right;\">\n",
       "      <th></th>\n",
       "      <th>Phi</th>\n",
       "      <th>theta</th>\n",
       "      <th>V</th>\n",
       "      <th>mV</th>\n",
       "    </tr>\n",
       "  </thead>\n",
       "  <tbody>\n",
       "    <tr>\n",
       "      <th>1262</th>\n",
       "      <td>120.0</td>\n",
       "      <td>2.4</td>\n",
       "      <td>0.0099</td>\n",
       "      <td>9.9</td>\n",
       "    </tr>\n",
       "    <tr>\n",
       "      <th>2995</th>\n",
       "      <td>290.0</td>\n",
       "      <td>2.6</td>\n",
       "      <td>0.0100</td>\n",
       "      <td>10.0</td>\n",
       "    </tr>\n",
       "    <tr>\n",
       "      <th>3250</th>\n",
       "      <td>315.0</td>\n",
       "      <td>2.6</td>\n",
       "      <td>0.0099</td>\n",
       "      <td>9.9</td>\n",
       "    </tr>\n",
       "  </tbody>\n",
       "</table>\n",
       "</div>"
      ],
      "text/plain": [
       "        Phi  theta       V    mV\n",
       "1262  120.0    2.4  0.0099   9.9\n",
       "2995  290.0    2.6  0.0100  10.0\n",
       "3250  315.0    2.6  0.0099   9.9"
      ]
     },
     "execution_count": 15,
     "metadata": {},
     "output_type": "execute_result"
    }
   ],
   "source": [
    "marg_mV = df['mV'].max() * (1/np.exp(2))                         # the marginal value of Voltage is defined as V_max/e²\n",
    "print(marg_mV)\n",
    "df[abs(df['mV']-marg_mV )< 0.1]                                  # finding the corresponding values of theta"
   ]
  },
  {
   "cell_type": "code",
   "execution_count": 16,
   "id": "7a11ab2b",
   "metadata": {},
   "outputs": [],
   "source": [
    "theta_v = 2.5    # degree with respect to the voltage"
   ]
  },
  {
   "cell_type": "code",
   "execution_count": 17,
   "id": "5b2c5192",
   "metadata": {},
   "outputs": [
    {
     "data": {
      "text/html": [
       "<div>\n",
       "<style scoped>\n",
       "    .dataframe tbody tr th:only-of-type {\n",
       "        vertical-align: middle;\n",
       "    }\n",
       "\n",
       "    .dataframe tbody tr th {\n",
       "        vertical-align: top;\n",
       "    }\n",
       "\n",
       "    .dataframe thead th {\n",
       "        text-align: right;\n",
       "    }\n",
       "</style>\n",
       "<table border=\"1\" class=\"dataframe\">\n",
       "  <thead>\n",
       "    <tr style=\"text-align: right;\">\n",
       "      <th></th>\n",
       "      <th>Phi</th>\n",
       "      <th>theta</th>\n",
       "      <th>V</th>\n",
       "      <th>mV</th>\n",
       "      <th>sq_mV</th>\n",
       "    </tr>\n",
       "  </thead>\n",
       "  <tbody>\n",
       "    <tr>\n",
       "      <th>0</th>\n",
       "      <td>0.0</td>\n",
       "      <td>10.0</td>\n",
       "      <td>0.0002</td>\n",
       "      <td>0.2</td>\n",
       "      <td>0.04</td>\n",
       "    </tr>\n",
       "    <tr>\n",
       "      <th>1</th>\n",
       "      <td>0.0</td>\n",
       "      <td>9.8</td>\n",
       "      <td>0.0002</td>\n",
       "      <td>0.2</td>\n",
       "      <td>0.04</td>\n",
       "    </tr>\n",
       "    <tr>\n",
       "      <th>2</th>\n",
       "      <td>0.0</td>\n",
       "      <td>9.6</td>\n",
       "      <td>0.0003</td>\n",
       "      <td>0.3</td>\n",
       "      <td>0.09</td>\n",
       "    </tr>\n",
       "    <tr>\n",
       "      <th>3</th>\n",
       "      <td>0.0</td>\n",
       "      <td>9.4</td>\n",
       "      <td>0.0003</td>\n",
       "      <td>0.3</td>\n",
       "      <td>0.09</td>\n",
       "    </tr>\n",
       "    <tr>\n",
       "      <th>4</th>\n",
       "      <td>0.0</td>\n",
       "      <td>9.2</td>\n",
       "      <td>0.0004</td>\n",
       "      <td>0.4</td>\n",
       "      <td>0.16</td>\n",
       "    </tr>\n",
       "  </tbody>\n",
       "</table>\n",
       "</div>"
      ],
      "text/plain": [
       "   Phi  theta       V   mV  sq_mV\n",
       "0  0.0   10.0  0.0002  0.2   0.04\n",
       "1  0.0    9.8  0.0002  0.2   0.04\n",
       "2  0.0    9.6  0.0003  0.3   0.09\n",
       "3  0.0    9.4  0.0003  0.3   0.09\n",
       "4  0.0    9.2  0.0004  0.4   0.16"
      ]
     },
     "execution_count": 17,
     "metadata": {},
     "output_type": "execute_result"
    }
   ],
   "source": [
    "# for V²\n",
    "df['sq_mV'] = df['mV']**2\n",
    "df.head()"
   ]
  },
  {
   "cell_type": "code",
   "execution_count": 19,
   "id": "619f29b8",
   "metadata": {},
   "outputs": [
    {
     "name": "stdout",
     "output_type": "stream",
     "text": [
      "729.1269585542452\n"
     ]
    }
   ],
   "source": [
    "marg_sq_mV = df['sq_mV'].max() * (1/np.exp(2))                   # the marginal value of sq_Voltage is defined as sq-V_max/e²\n",
    "print(marg_sq_mV)\n",
    "df[abs(df['sq_mV']-marg_sq_V )< 100][['theta', 'sq_mV']].head()                                # finding the corresponding values of theta"
   ]
  },
  {
   "cell_type": "code",
   "execution_count": 8,
   "id": "5e46c250",
   "metadata": {},
   "outputs": [],
   "source": [
    "# measured values\n",
    "wavelength = 714.285 * 1e-6              # wavelength\n",
    "theta_v = 2.5                            # degree beam radius with respect to Voltage\n",
    "theta_sq_V = 1.8                        #degree  beam redius with respect to squared Voltage"
   ]
  },
  {
   "cell_type": "code",
   "execution_count": null,
   "id": "52b06333",
   "metadata": {},
   "outputs": [],
   "source": []
  }
 ],
 "metadata": {
  "kernelspec": {
   "display_name": "Python 3",
   "language": "python",
   "name": "python3"
  },
  "language_info": {
   "codemirror_mode": {
    "name": "ipython",
    "version": 3
   },
   "file_extension": ".py",
   "mimetype": "text/x-python",
   "name": "python",
   "nbconvert_exporter": "python",
   "pygments_lexer": "ipython3",
   "version": "3.8.8"
  }
 },
 "nbformat": 4,
 "nbformat_minor": 5
}
